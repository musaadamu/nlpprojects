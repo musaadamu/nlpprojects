{
 "cells": [
  {
   "cell_type": "code",
   "execution_count": 1,
   "metadata": {},
   "outputs": [
    {
     "name": "stdout",
     "output_type": "stream",
     "text": [
      "Requirement already satisfied: torch in /home/msmaje/miniconda3/envs/arewaDS_functions/lib/python3.9/site-packages (2.3.1)\n",
      "Requirement already satisfied: torchvision in /home/msmaje/miniconda3/envs/arewaDS_functions/lib/python3.9/site-packages (0.18.1)\n",
      "Requirement already satisfied: transformers in /home/msmaje/miniconda3/envs/arewaDS_functions/lib/python3.9/site-packages (4.42.4)\n",
      "Requirement already satisfied: pandas in /home/msmaje/miniconda3/envs/arewaDS_functions/lib/python3.9/site-packages (2.2.2)\n",
      "Requirement already satisfied: Pillow in /home/msmaje/.local/lib/python3.9/site-packages (10.2.0)\n",
      "Requirement already satisfied: filelock in /home/msmaje/miniconda3/envs/arewaDS_functions/lib/python3.9/site-packages (from torch) (3.13.1)\n",
      "Requirement already satisfied: typing-extensions>=4.8.0 in /home/msmaje/.local/lib/python3.9/site-packages (from torch) (4.10.0)\n",
      "Requirement already satisfied: sympy in /home/msmaje/miniconda3/envs/arewaDS_functions/lib/python3.9/site-packages (from torch) (1.12)\n",
      "Requirement already satisfied: networkx in /home/msmaje/miniconda3/envs/arewaDS_functions/lib/python3.9/site-packages (from torch) (3.2.1)\n",
      "Requirement already satisfied: jinja2 in /home/msmaje/.local/lib/python3.9/site-packages (from torch) (3.1.3)\n",
      "Requirement already satisfied: fsspec in /home/msmaje/miniconda3/envs/arewaDS_functions/lib/python3.9/site-packages (from torch) (2024.5.0)\n",
      "Requirement already satisfied: numpy in /home/msmaje/.local/lib/python3.9/site-packages (from torchvision) (1.26.4)\n",
      "Requirement already satisfied: huggingface-hub<1.0,>=0.23.2 in /home/msmaje/miniconda3/envs/arewaDS_functions/lib/python3.9/site-packages (from transformers) (0.23.5)\n",
      "Requirement already satisfied: packaging>=20.0 in /home/msmaje/.local/lib/python3.9/site-packages (from transformers) (24.0)\n",
      "Requirement already satisfied: pyyaml>=5.1 in /home/msmaje/miniconda3/envs/arewaDS_functions/lib/python3.9/site-packages (from transformers) (6.0.1)\n",
      "Requirement already satisfied: regex!=2019.12.17 in /home/msmaje/miniconda3/envs/arewaDS_functions/lib/python3.9/site-packages (from transformers) (2024.5.15)\n",
      "Requirement already satisfied: requests in /home/msmaje/miniconda3/envs/arewaDS_functions/lib/python3.9/site-packages (from transformers) (2.32.2)\n",
      "Requirement already satisfied: safetensors>=0.4.1 in /home/msmaje/miniconda3/envs/arewaDS_functions/lib/python3.9/site-packages (from transformers) (0.4.3)\n",
      "Requirement already satisfied: tokenizers<0.20,>=0.19 in /home/msmaje/miniconda3/envs/arewaDS_functions/lib/python3.9/site-packages (from transformers) (0.19.1)\n",
      "Requirement already satisfied: tqdm>=4.27 in /home/msmaje/miniconda3/envs/arewaDS_functions/lib/python3.9/site-packages (from transformers) (4.66.4)\n",
      "Requirement already satisfied: python-dateutil>=2.8.2 in /home/msmaje/.local/lib/python3.9/site-packages (from pandas) (2.9.0.post0)\n",
      "Requirement already satisfied: pytz>=2020.1 in /home/msmaje/miniconda3/envs/arewaDS_functions/lib/python3.9/site-packages (from pandas) (2024.1)\n",
      "Requirement already satisfied: tzdata>=2022.7 in /home/msmaje/miniconda3/envs/arewaDS_functions/lib/python3.9/site-packages (from pandas) (2024.1)\n",
      "Requirement already satisfied: six>=1.5 in /home/msmaje/miniconda3/envs/arewaDS_functions/lib/python3.9/site-packages (from python-dateutil>=2.8.2->pandas) (1.16.0)\n",
      "Requirement already satisfied: MarkupSafe>=2.0 in /home/msmaje/.local/lib/python3.9/site-packages (from jinja2->torch) (2.1.5)\n",
      "Requirement already satisfied: charset-normalizer<4,>=2 in /home/msmaje/.local/lib/python3.9/site-packages (from requests->transformers) (3.3.2)\n",
      "Requirement already satisfied: idna<4,>=2.5 in /home/msmaje/.local/lib/python3.9/site-packages (from requests->transformers) (3.6)\n",
      "Requirement already satisfied: urllib3<3,>=1.21.1 in /home/msmaje/.local/lib/python3.9/site-packages (from requests->transformers) (2.2.1)\n",
      "Requirement already satisfied: certifi>=2017.4.17 in /home/msmaje/.local/lib/python3.9/site-packages (from requests->transformers) (2024.2.2)\n",
      "Requirement already satisfied: mpmath>=0.19 in /home/msmaje/miniconda3/envs/arewaDS_functions/lib/python3.9/site-packages (from sympy->torch) (1.3.0)\n",
      "Note: you may need to restart the kernel to use updated packages.\n"
     ]
    }
   ],
   "source": [
    "pip install torch torchvision transformers pandas Pillow\n"
   ]
  },
  {
   "cell_type": "code",
   "execution_count": 2,
   "metadata": {},
   "outputs": [],
   "source": [
    "import os\n",
    "import pandas as pd\n",
    "from PIL import Image\n",
    "import torch\n",
    "from torchvision import transforms\n",
    "from transformers import BertTokenizer, BertModel\n"
   ]
  },
  {
   "cell_type": "code",
   "execution_count": 4,
   "metadata": {},
   "outputs": [
    {
     "name": "stdout",
     "output_type": "stream",
     "text": [
      "Label mapping: {'shelves': 0, 'paper': 1, 'refridgerator': 2, 'clothes': 3, 'machine': 4, 'curtain': 5, 'door': 6, 'three': 7, 'bottle_of_liquid': 8, 'sofa': 9, 'table': 10, 'books': 11, 'cabinet': 12, 'orange': 13, 'pillow, paper, book': 14, 'blue': 15, 'two': 16, 'bed': 17, 'picture, decorative_item': 18, 'sink': 19, 'picture': 20, 'window': 21, 'floor_mat': 22, 'nine': 23, 'light': 24, 'five': 25, 'spoon_stand': 26, 'toys_basket': 27, 'one': 28, 'fire_extinguisher': 29, 'ladder': 30, 'tin_foil': 31, 'four': 32, 'whiteboard': 33, 'towel': 34, 'chair': 35, 'toy, telephone': 36, 'garbage_bin': 37, 'blinds': 38, 'hanger': 39, 'bag': 40, 'toilet': 41, 'toothpaste': 42, 'black': 43, 'orange, pink': 44, 'toy': 45, 'ten': 46, 'bottle': 47, 'television': 48, 'plant': 49, 'green': 50, 'white': 51, 'pillow, blanket, bed_sheets': 52, 'ornamental_plant': 53, 'pillow': 54, 'paper_holder': 55, 'lamp, photo, decorative_item': 56, 'container': 57, 'stove': 58, 'piano': 59, 'mirror': 60, 'notebook, decorative_bowl': 61, 'guitar_case': 62, 'decorative_item': 63, 'blue, red': 64, 'fax_machine': 65, 'light_switch': 66, 'plastic_tub': 67, 'television, dvd_player': 68, 'carton': 69, 'chandelier': 70, 'decoration_item': 71, 'alarm_clock': 72, 'lamp': 73, 'red': 74, 'pen': 75, 'decorative_plate': 76, 'gray': 77, 'knife': 78, 'toys_basket, photo, books': 79, 'bowl': 80, 'laptop, mouse, books, calculator': 81, 'blue, white': 82, 'microwave': 83, 'printer': 84, 'plate': 85, 'clock, telephone': 86, 'plastic_tray': 87, 'rug': 88, 'basket': 89, 'tv_stand': 90, 'eight': 91, 'tissue_roll': 92, '0ne': 93, 'bicycle': 94, 'toy_chair': 95, 'telephone, chair': 96, 'vase': 97, 'tissue_box': 98, 'six': 99, 'show_piece': 100, 'hat': 101, 'yellow': 102, 'stool': 103, 'brown': 104, 'photo': 105, 'pillow, blanket': 106, 'plant_pot': 107, 'speaker': 108, 'banana': 109, 'purple': 110, 'file, telephone, papers, clothes': 111, 'papers': 112, 'pink': 113, 'wall_decoration': 114, 'picture, picture': 115, 'oven': 116, 'water_dispenser': 117, 'tree_sculpture': 118, 'projector_screen': 119, 'newspapers, bowl': 120, 'wardrobe': 121, 'computer': 122, 'book, carton, bottle': 123, 'newspapers': 124, 'paper_rack': 125, 'plastic_box': 126, 'lamp, telephone': 127, 'electric_mixer': 128, 'poster_board': 129, 'toy, vase': 130, 'sticks, rope': 131, 'lamp, photo, toy': 132, 'box': 133, 'sink, faucet': 134, 'photo, decorative_item': 135, 'pillow, clothes': 136, 'telephone': 137, 'tissue': 138, 'bottle_of_hand_wash_liquid': 139, 'candlestick, candle': 140, 'coffee_machine': 141, 'book, remote_control': 142, 'brown, gray': 143, 'monitor, machine, paper, keyboard': 144, 'remote_control': 145, 'sink, bowl, plant, kitchen_utensils': 146, 'monitor': 147, 'twelve': 148, 'candelabra': 149, 'bottle, toy, papers, wire': 150, 'cup': 151, 'picture, papers': 152, 'spot_light': 153, 'cleaner, monitor, dvd_player': 154, 'foot_rest': 155, 'paper, picture': 156, 'crib': 157, 'jug': 158, 'tea_kettle, container': 159, 'switchbox': 160, 'bathtub': 161, 'pink, gray': 162, 'cables': 163, 'horse_toy': 164, 'pen, pencil, scale': 165, 'guitar': 166, 'fireplace': 167, 'black, white': 168, 'white, brown': 169, 'blue, yellow': 170, 'projector': 171, 'door_way': 172, 'book': 173, 'plant, bottle_of_hand_wash_liquid': 174, 'candlestick': 175, 'lamp, toy': 176, 'bottle_of_soap': 177, 'laundry_basket': 178, 'utensil': 179, 'candle': 180, 'decorative_item, lamp': 181, 'toothbrush': 182, 'piano_bench': 183, 'cup, paper': 184, 'coffee_packet, cup': 185, 'night_stand': 186, 'toy_house': 187, 'dishwasher': 188}\n",
      "Questions tokenized shape: torch.Size([500, 23])\n",
      "Labels tensor shape: torch.Size([500])\n",
      "Images stacked shape: torch.Size([500, 3, 224, 224])\n",
      "Data preparation successful.\n"
     ]
    }
   ],
   "source": [
    "# Load the data\n",
    "data = pd.read_csv('data.csv')\n",
    "\n",
    "# Define image transformation\n",
    "transform = transforms.Compose([\n",
    "    transforms.Resize((224, 224)),\n",
    "    transforms.ToTensor(),\n",
    "])\n",
    "\n",
    "# Load BERT tokenizer\n",
    "tokenizer = BertTokenizer.from_pretrained('bert-base-uncased')\n",
    "\n",
    "def load_image(image_id, image_folder='images'):\n",
    "    image_path = os.path.join(image_folder, f\"{image_id}.png\")  # Adjust extension if needed\n",
    "    if not os.path.exists(image_path):\n",
    "        print(f\"FileNotFoundError: Image {image_path} not found.\")\n",
    "        raise FileNotFoundError(f\"Image {image_path} not found.\")\n",
    "    image = Image.open(image_path).convert(\"RGB\")\n",
    "    return transform(image)\n",
    "\n",
    "# Initialize lists to store images, questions, and labels\n",
    "images = []\n",
    "questions = []\n",
    "labels = []\n",
    "\n",
    "# Create label mapping\n",
    "unique_labels = data['answer'].unique()\n",
    "label_map = {label: idx for idx, label in enumerate(unique_labels)}\n",
    "print(\"Label mapping:\", label_map)\n",
    "\n",
    "# Load images, questions, and labels\n",
    "for idx, row in data.iterrows():\n",
    "    try:\n",
    "        # Load and transform the image\n",
    "        image_tensor = load_image(row['image_id'], image_folder='images')\n",
    "        images.append(image_tensor)\n",
    "        questions.append(row['englishquestion'])\n",
    "        labels.append(label_map[row['answer']])\n",
    "    except FileNotFoundError as e:\n",
    "        print(e)\n",
    "        continue\n",
    "\n",
    "# Tokenize questions\n",
    "question_tokens = tokenizer(questions, padding=True, truncation=True, return_tensors=\"pt\")\n",
    "print(\"Questions tokenized shape:\", question_tokens['input_ids'].shape)\n",
    "\n",
    "# Convert labels to a tensor\n",
    "label_tensor = torch.tensor(labels)\n",
    "print(\"Labels tensor shape:\", label_tensor.shape)\n",
    "\n",
    "# Stack images into a single tensor\n",
    "image_stack = torch.stack(images)\n",
    "print(\"Images stacked shape:\", image_stack.shape)\n",
    "\n",
    "print(\"Data preparation successful.\")\n"
   ]
  },
  {
   "cell_type": "code",
   "execution_count": 5,
   "metadata": {},
   "outputs": [],
   "source": [
    "import torch.nn as nn\n",
    "\n",
    "class BertCNNModel(nn.Module):\n",
    "    def __init__(self):\n",
    "        super(BertCNNModel, self).__init__()\n",
    "        # BERT model for text processing\n",
    "        self.bert = BertModel.from_pretrained('bert-base-uncased')\n",
    "        # Simple CNN for image processing\n",
    "        self.cnn = nn.Sequential(\n",
    "            nn.Conv2d(3, 64, kernel_size=3, stride=1, padding=1),\n",
    "            nn.ReLU(),\n",
    "            nn.MaxPool2d(kernel_size=2, stride=2, padding=0),\n",
    "            nn.Conv2d(64, 128, kernel_size=3, stride=1, padding=1),\n",
    "            nn.ReLU(),\n",
    "            nn.MaxPool2d(kernel_size=2, stride=2, padding=0)\n",
    "        )\n",
    "        self.fc1 = nn.Linear(768 + 128 * 56 * 56, 256)\n",
    "        self.fc2 = nn.Linear(256, len(set(labels)))  # Adjust output size based on the number of unique labels\n",
    "\n",
    "    def forward(self, input_ids, attention_mask, images):\n",
    "        # Process text with BERT\n",
    "        text_output = self.bert(input_ids=input_ids, attention_mask=attention_mask)\n",
    "        text_embedding = text_output.last_hidden_state[:, 0, :]  # CLS token\n",
    "\n",
    "        # Process image with CNN\n",
    "        image_embedding = self.cnn(images)\n",
    "        image_embedding = image_embedding.view(image_embedding.size(0), -1)  # Flatten\n",
    "\n",
    "        # Concatenate text and image embeddings\n",
    "        combined = torch.cat((text_embedding, image_embedding), dim=1)\n",
    "\n",
    "        # Fully connected layers\n",
    "        x = self.fc1(combined)\n",
    "        x = nn.ReLU()(x)\n",
    "        x = self.fc2(x)\n",
    "        return x\n"
   ]
  },
  {
   "cell_type": "code",
   "execution_count": 8,
   "metadata": {},
   "outputs": [
    {
     "name": "stdout",
     "output_type": "stream",
     "text": [
      "Epoch 1, Loss: 4.80350923538208\n",
      "Epoch 2, Loss: 4.963907241821289\n",
      "Epoch 3, Loss: 4.974913120269775\n",
      "Epoch 4, Loss: 3.0998356342315674\n",
      "Epoch 5, Loss: 1.7286838293075562\n",
      "Epoch 6, Loss: 1.9252345561981201\n",
      "Epoch 7, Loss: 1.023680567741394\n",
      "Epoch 8, Loss: 1.1746867895126343\n",
      "Epoch 9, Loss: 0.19674935936927795\n",
      "Epoch 10, Loss: 0.0795847475528717\n"
     ]
    }
   ],
   "source": [
    "from torch.utils.data import DataLoader, TensorDataset\n",
    "from torch.optim import Adam\n",
    "from torch.nn import CrossEntropyLoss\n",
    "import torch\n",
    "\n",
    "# Prepare data for DataLoader\n",
    "dataset = TensorDataset(question_tokens['input_ids'], question_tokens['attention_mask'], image_stack, label_tensor)\n",
    "dataloader = DataLoader(dataset, batch_size=8, shuffle=True)\n",
    "\n",
    "# Initialize model, loss function, and optimizer\n",
    "device = torch.device(\"cuda\" if torch.cuda.is_available() else \"cpu\")\n",
    "model = BertCNNModel().to(device)\n",
    "loss_fn = CrossEntropyLoss()\n",
    "optimizer = Adam(model.parameters(), lr=1e-4)\n",
    "\n",
    "# Training loop\n",
    "for epoch in range(10):  # Adjust number of epochs as needed\n",
    "    for batch in dataloader:\n",
    "        input_ids, attention_mask, images, labels = [x.to(device) for x in batch]\n",
    "        \n",
    "        # Forward pass\n",
    "        outputs = model(input_ids, attention_mask, images)\n",
    "        \n",
    "        # Compute loss\n",
    "        loss = loss_fn(outputs, labels)\n",
    "        \n",
    "        # Backward pass and optimization\n",
    "        optimizer.zero_grad()\n",
    "        loss.backward()\n",
    "        optimizer.step()\n",
    "        \n",
    "    print(f\"Epoch {epoch+1}, Loss: {loss.item()}\")"
   ]
  },
  {
   "cell_type": "code",
   "execution_count": null,
   "metadata": {},
   "outputs": [],
   "source": []
  }
 ],
 "metadata": {
  "kernelspec": {
   "display_name": "nlf",
   "language": "python",
   "name": "python3"
  },
  "language_info": {
   "codemirror_mode": {
    "name": "ipython",
    "version": 3
   },
   "file_extension": ".py",
   "mimetype": "text/x-python",
   "name": "python",
   "nbconvert_exporter": "python",
   "pygments_lexer": "ipython3",
   "version": "3.9.19"
  }
 },
 "nbformat": 4,
 "nbformat_minor": 2
}
